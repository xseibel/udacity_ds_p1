{
 "cells": [
  {
   "cell_type": "markdown",
   "metadata": {},
   "source": [
    "## Business Understanding\n",
    "Understanding the relationship between salary and job satisfaction can be important not only from an employer point of view but as well as an employee. Salary is often considered as the number one factor for job satisfaction. Knowledge about that relationship can affect decisions if salary is a suitable measure to influence job satisfaction.\n",
    "\n",
    "In this notebook, I will try to analyze how the salary of a developer has influence on job satisfaction.\n",
    "The first question I will look into is, if there is a linear correlation between salary and job satisfaction.\n",
    "With the second question, I will try to confirm a common known fact that says that salaries rise with more years of work (programing) experience. I will use this question as a bridge to my third question.\n",
    "The third question will be about job satisfaction over years of programing. \n",
    "\n",
    "If salary is really the major driver of job satisfaction, there should be a similar increase in job satisfaction over the years as it is over salary. Assumed there is a positive trend towards higher salaries over years of programing experience (see question 2)."
   ]
  },
  {
   "cell_type": "code",
   "execution_count": 2,
   "metadata": {
    "ExecuteTime": {
     "end_time": "2020-03-24T13:56:40.945884Z",
     "start_time": "2020-03-24T13:56:40.933756Z"
    }
   },
   "outputs": [],
   "source": [
    "import numpy as np\n",
    "import pandas as pd\n",
    "import matplotlib.pyplot as plt\n",
    "import seaborn as sns\n",
    "%matplotlib inline"
   ]
  },
  {
   "cell_type": "markdown",
   "metadata": {},
   "source": [
    "## Data Understanding\n",
    "We will be working on the Stack Overflow Developer Survey of 2017.\n",
    "This Dataset consists of two files.\n",
    "* survey_results_schema.csv, contains the questions that have been asked\n",
    "* survey_results_public.csv, contains the actual answers per responded"
   ]
  },
  {
   "cell_type": "code",
   "execution_count": 3,
   "metadata": {
    "ExecuteTime": {
     "end_time": "2020-03-24T14:00:56.243873Z",
     "start_time": "2020-03-24T14:00:56.223720Z"
    }
   },
   "outputs": [
    {
     "data": {
      "text/html": [
       "<div>\n",
       "<style scoped>\n",
       "    .dataframe tbody tr th:only-of-type {\n",
       "        vertical-align: middle;\n",
       "    }\n",
       "\n",
       "    .dataframe tbody tr th {\n",
       "        vertical-align: top;\n",
       "    }\n",
       "\n",
       "    .dataframe thead th {\n",
       "        text-align: right;\n",
       "    }\n",
       "</style>\n",
       "<table border=\"1\" class=\"dataframe\">\n",
       "  <thead>\n",
       "    <tr style=\"text-align: right;\">\n",
       "      <th></th>\n",
       "      <th>Column</th>\n",
       "      <th>Question</th>\n",
       "    </tr>\n",
       "  </thead>\n",
       "  <tbody>\n",
       "    <tr>\n",
       "      <th>0</th>\n",
       "      <td>Respondent</td>\n",
       "      <td>Respondent ID number</td>\n",
       "    </tr>\n",
       "    <tr>\n",
       "      <th>1</th>\n",
       "      <td>Professional</td>\n",
       "      <td>Which of the following best describes you?</td>\n",
       "    </tr>\n",
       "    <tr>\n",
       "      <th>2</th>\n",
       "      <td>ProgramHobby</td>\n",
       "      <td>Do you program as a hobby or contribute to ope...</td>\n",
       "    </tr>\n",
       "    <tr>\n",
       "      <th>3</th>\n",
       "      <td>Country</td>\n",
       "      <td>In which country do you currently live?</td>\n",
       "    </tr>\n",
       "    <tr>\n",
       "      <th>4</th>\n",
       "      <td>University</td>\n",
       "      <td>Are you currently enrolled in a formal, degree...</td>\n",
       "    </tr>\n",
       "  </tbody>\n",
       "</table>\n",
       "</div>"
      ],
      "text/plain": [
       "         Column                                           Question\n",
       "0    Respondent                               Respondent ID number\n",
       "1  Professional         Which of the following best describes you?\n",
       "2  ProgramHobby  Do you program as a hobby or contribute to ope...\n",
       "3       Country            In which country do you currently live?\n",
       "4    University  Are you currently enrolled in a formal, degree..."
      ]
     },
     "execution_count": 3,
     "metadata": {},
     "output_type": "execute_result"
    }
   ],
   "source": [
    "#load schema into pandas\n",
    "schema = pd.read_csv(\"./survey_results_schema.csv\")\n",
    "schema.head()"
   ]
  },
  {
   "cell_type": "markdown",
   "metadata": {},
   "source": [
    "From looking at all the questions, we can obtain that the following columns are of interest:\n",
    "* JobSatisfaction\n",
    "* EmploymentStatus\n",
    "* Country\n",
    "* Salary\n",
    "* YearsCodedJob"
   ]
  },
  {
   "cell_type": "markdown",
   "metadata": {},
   "source": [
    "Now we will look at the actual results."
   ]
  },
  {
   "cell_type": "code",
   "execution_count": 4,
   "metadata": {
    "ExecuteTime": {
     "end_time": "2020-03-24T14:32:22.022969Z",
     "start_time": "2020-03-24T14:32:21.186326Z"
    }
   },
   "outputs": [
    {
     "data": {
      "text/html": [
       "<div>\n",
       "<style scoped>\n",
       "    .dataframe tbody tr th:only-of-type {\n",
       "        vertical-align: middle;\n",
       "    }\n",
       "\n",
       "    .dataframe tbody tr th {\n",
       "        vertical-align: top;\n",
       "    }\n",
       "\n",
       "    .dataframe thead th {\n",
       "        text-align: right;\n",
       "    }\n",
       "</style>\n",
       "<table border=\"1\" class=\"dataframe\">\n",
       "  <thead>\n",
       "    <tr style=\"text-align: right;\">\n",
       "      <th></th>\n",
       "      <th>Respondent</th>\n",
       "      <th>Professional</th>\n",
       "      <th>ProgramHobby</th>\n",
       "      <th>Country</th>\n",
       "      <th>University</th>\n",
       "      <th>EmploymentStatus</th>\n",
       "      <th>FormalEducation</th>\n",
       "      <th>MajorUndergrad</th>\n",
       "      <th>HomeRemote</th>\n",
       "      <th>CompanySize</th>\n",
       "      <th>...</th>\n",
       "      <th>StackOverflowMakeMoney</th>\n",
       "      <th>Gender</th>\n",
       "      <th>HighestEducationParents</th>\n",
       "      <th>Race</th>\n",
       "      <th>SurveyLong</th>\n",
       "      <th>QuestionsInteresting</th>\n",
       "      <th>QuestionsConfusing</th>\n",
       "      <th>InterestedAnswers</th>\n",
       "      <th>Salary</th>\n",
       "      <th>ExpectedSalary</th>\n",
       "    </tr>\n",
       "  </thead>\n",
       "  <tbody>\n",
       "    <tr>\n",
       "      <th>0</th>\n",
       "      <td>1</td>\n",
       "      <td>Student</td>\n",
       "      <td>Yes, both</td>\n",
       "      <td>United States</td>\n",
       "      <td>No</td>\n",
       "      <td>Not employed, and not looking for work</td>\n",
       "      <td>Secondary school</td>\n",
       "      <td>NaN</td>\n",
       "      <td>NaN</td>\n",
       "      <td>NaN</td>\n",
       "      <td>...</td>\n",
       "      <td>Strongly disagree</td>\n",
       "      <td>Male</td>\n",
       "      <td>High school</td>\n",
       "      <td>White or of European descent</td>\n",
       "      <td>Strongly disagree</td>\n",
       "      <td>Strongly agree</td>\n",
       "      <td>Disagree</td>\n",
       "      <td>Strongly agree</td>\n",
       "      <td>NaN</td>\n",
       "      <td>NaN</td>\n",
       "    </tr>\n",
       "    <tr>\n",
       "      <th>1</th>\n",
       "      <td>2</td>\n",
       "      <td>Student</td>\n",
       "      <td>Yes, both</td>\n",
       "      <td>United Kingdom</td>\n",
       "      <td>Yes, full-time</td>\n",
       "      <td>Employed part-time</td>\n",
       "      <td>Some college/university study without earning ...</td>\n",
       "      <td>Computer science or software engineering</td>\n",
       "      <td>More than half, but not all, the time</td>\n",
       "      <td>20 to 99 employees</td>\n",
       "      <td>...</td>\n",
       "      <td>Strongly disagree</td>\n",
       "      <td>Male</td>\n",
       "      <td>A master's degree</td>\n",
       "      <td>White or of European descent</td>\n",
       "      <td>Somewhat agree</td>\n",
       "      <td>Somewhat agree</td>\n",
       "      <td>Disagree</td>\n",
       "      <td>Strongly agree</td>\n",
       "      <td>NaN</td>\n",
       "      <td>37500.0</td>\n",
       "    </tr>\n",
       "    <tr>\n",
       "      <th>2</th>\n",
       "      <td>3</td>\n",
       "      <td>Professional developer</td>\n",
       "      <td>Yes, both</td>\n",
       "      <td>United Kingdom</td>\n",
       "      <td>No</td>\n",
       "      <td>Employed full-time</td>\n",
       "      <td>Bachelor's degree</td>\n",
       "      <td>Computer science or software engineering</td>\n",
       "      <td>Less than half the time, but at least one day ...</td>\n",
       "      <td>10,000 or more employees</td>\n",
       "      <td>...</td>\n",
       "      <td>Disagree</td>\n",
       "      <td>Male</td>\n",
       "      <td>A professional degree</td>\n",
       "      <td>White or of European descent</td>\n",
       "      <td>Somewhat agree</td>\n",
       "      <td>Agree</td>\n",
       "      <td>Disagree</td>\n",
       "      <td>Agree</td>\n",
       "      <td>113750.0</td>\n",
       "      <td>NaN</td>\n",
       "    </tr>\n",
       "    <tr>\n",
       "      <th>3</th>\n",
       "      <td>4</td>\n",
       "      <td>Professional non-developer who sometimes write...</td>\n",
       "      <td>Yes, both</td>\n",
       "      <td>United States</td>\n",
       "      <td>No</td>\n",
       "      <td>Employed full-time</td>\n",
       "      <td>Doctoral degree</td>\n",
       "      <td>A non-computer-focused engineering discipline</td>\n",
       "      <td>Less than half the time, but at least one day ...</td>\n",
       "      <td>10,000 or more employees</td>\n",
       "      <td>...</td>\n",
       "      <td>Disagree</td>\n",
       "      <td>Male</td>\n",
       "      <td>A doctoral degree</td>\n",
       "      <td>White or of European descent</td>\n",
       "      <td>Agree</td>\n",
       "      <td>Agree</td>\n",
       "      <td>Somewhat agree</td>\n",
       "      <td>Strongly agree</td>\n",
       "      <td>NaN</td>\n",
       "      <td>NaN</td>\n",
       "    </tr>\n",
       "    <tr>\n",
       "      <th>4</th>\n",
       "      <td>5</td>\n",
       "      <td>Professional developer</td>\n",
       "      <td>Yes, I program as a hobby</td>\n",
       "      <td>Switzerland</td>\n",
       "      <td>No</td>\n",
       "      <td>Employed full-time</td>\n",
       "      <td>Master's degree</td>\n",
       "      <td>Computer science or software engineering</td>\n",
       "      <td>Never</td>\n",
       "      <td>10 to 19 employees</td>\n",
       "      <td>...</td>\n",
       "      <td>NaN</td>\n",
       "      <td>NaN</td>\n",
       "      <td>NaN</td>\n",
       "      <td>NaN</td>\n",
       "      <td>NaN</td>\n",
       "      <td>NaN</td>\n",
       "      <td>NaN</td>\n",
       "      <td>NaN</td>\n",
       "      <td>NaN</td>\n",
       "      <td>NaN</td>\n",
       "    </tr>\n",
       "  </tbody>\n",
       "</table>\n",
       "<p>5 rows × 154 columns</p>\n",
       "</div>"
      ],
      "text/plain": [
       "   Respondent                                       Professional  \\\n",
       "0           1                                            Student   \n",
       "1           2                                            Student   \n",
       "2           3                             Professional developer   \n",
       "3           4  Professional non-developer who sometimes write...   \n",
       "4           5                             Professional developer   \n",
       "\n",
       "                ProgramHobby         Country      University  \\\n",
       "0                  Yes, both   United States              No   \n",
       "1                  Yes, both  United Kingdom  Yes, full-time   \n",
       "2                  Yes, both  United Kingdom              No   \n",
       "3                  Yes, both   United States              No   \n",
       "4  Yes, I program as a hobby     Switzerland              No   \n",
       "\n",
       "                         EmploymentStatus  \\\n",
       "0  Not employed, and not looking for work   \n",
       "1                      Employed part-time   \n",
       "2                      Employed full-time   \n",
       "3                      Employed full-time   \n",
       "4                      Employed full-time   \n",
       "\n",
       "                                     FormalEducation  \\\n",
       "0                                   Secondary school   \n",
       "1  Some college/university study without earning ...   \n",
       "2                                  Bachelor's degree   \n",
       "3                                    Doctoral degree   \n",
       "4                                    Master's degree   \n",
       "\n",
       "                                  MajorUndergrad  \\\n",
       "0                                            NaN   \n",
       "1       Computer science or software engineering   \n",
       "2       Computer science or software engineering   \n",
       "3  A non-computer-focused engineering discipline   \n",
       "4       Computer science or software engineering   \n",
       "\n",
       "                                          HomeRemote  \\\n",
       "0                                                NaN   \n",
       "1              More than half, but not all, the time   \n",
       "2  Less than half the time, but at least one day ...   \n",
       "3  Less than half the time, but at least one day ...   \n",
       "4                                              Never   \n",
       "\n",
       "                CompanySize  ... StackOverflowMakeMoney Gender  \\\n",
       "0                       NaN  ...      Strongly disagree   Male   \n",
       "1        20 to 99 employees  ...      Strongly disagree   Male   \n",
       "2  10,000 or more employees  ...               Disagree   Male   \n",
       "3  10,000 or more employees  ...               Disagree   Male   \n",
       "4        10 to 19 employees  ...                    NaN    NaN   \n",
       "\n",
       "  HighestEducationParents                          Race         SurveyLong  \\\n",
       "0             High school  White or of European descent  Strongly disagree   \n",
       "1       A master's degree  White or of European descent     Somewhat agree   \n",
       "2   A professional degree  White or of European descent     Somewhat agree   \n",
       "3       A doctoral degree  White or of European descent              Agree   \n",
       "4                     NaN                           NaN                NaN   \n",
       "\n",
       "  QuestionsInteresting QuestionsConfusing InterestedAnswers    Salary  \\\n",
       "0       Strongly agree           Disagree    Strongly agree       NaN   \n",
       "1       Somewhat agree           Disagree    Strongly agree       NaN   \n",
       "2                Agree           Disagree             Agree  113750.0   \n",
       "3                Agree     Somewhat agree    Strongly agree       NaN   \n",
       "4                  NaN                NaN               NaN       NaN   \n",
       "\n",
       "   ExpectedSalary  \n",
       "0             NaN  \n",
       "1         37500.0  \n",
       "2             NaN  \n",
       "3             NaN  \n",
       "4             NaN  \n",
       "\n",
       "[5 rows x 154 columns]"
      ]
     },
     "execution_count": 4,
     "metadata": {},
     "output_type": "execute_result"
    }
   ],
   "source": [
    "#load results into pandas\n",
    "df = pd.read_csv(\"./survey_results_public.csv\")\n",
    "df.head()"
   ]
  },
  {
   "cell_type": "markdown",
   "metadata": {},
   "source": [
    "We first we have to make sure, if there are any missing values in the columns of interest.\n",
    "We will print the percentage of completeness per column of our interest."
   ]
  },
  {
   "cell_type": "code",
   "execution_count": 5,
   "metadata": {
    "ExecuteTime": {
     "end_time": "2020-03-24T14:32:25.860394Z",
     "start_time": "2020-03-24T14:32:25.831749Z"
    }
   },
   "outputs": [
    {
     "name": "stdout",
     "output_type": "stream",
     "text": [
      "Professional: 1.000000\n",
      "Country: 1.000000\n",
      "Salary: 0.250837\n",
      "YearsCodedJob: 0.795649\n",
      "JobSatisfaction: 0.785648\n",
      "EmplymentStatus: 1.000000\n"
     ]
    }
   ],
   "source": [
    "print(\"Professional: %f\" % (df[\"Professional\"].count()/df.shape[0]))\n",
    "print(\"Country: %f\" % (df[\"Country\"].count()/df.shape[0]))\n",
    "print(\"Salary: %f\" % (df[\"Salary\"].count()/df.shape[0]))\n",
    "print(\"YearsCodedJob: %f\" % (df[\"YearsCodedJob\"].count()/df.shape[0]))\n",
    "print(\"JobSatisfaction: %f\" % (df[\"JobSatisfaction\"].count()/df.shape[0]))\n",
    "print(\"EmplymentStatus: %f\" % (df[\"EmploymentStatus\"].count()/df.shape[0]))"
   ]
  },
  {
   "cell_type": "markdown",
   "metadata": {
    "ExecuteTime": {
     "end_time": "2020-03-24T14:11:18.266877Z",
     "start_time": "2020-03-24T14:11:18.264061Z"
    }
   },
   "source": [
    "We now know that the following columns are incomplete and that we have to take care of that later.\n",
    "* JobSatisfaction\n",
    "* Salary\n",
    "* YearsCodedJob"
   ]
  },
  {
   "cell_type": "markdown",
   "metadata": {},
   "source": [
    "By looking at the possible answers of \"EmploymentStatus\", we will consider only full-time employed people for the evaluation later. That is also the largest group in that survey."
   ]
  },
  {
   "cell_type": "code",
   "execution_count": 6,
   "metadata": {},
   "outputs": [
    {
     "data": {
      "text/plain": [
       "<matplotlib.axes._subplots.AxesSubplot at 0x7f718431a630>"
      ]
     },
     "execution_count": 6,
     "metadata": {},
     "output_type": "execute_result"
    },
    {
     "data": {
      "image/png": "[encoded data removed]",
      "text/plain": [
       "<Figure size 432x288 with 1 Axes>"
      ]
     },
     "metadata": {
      "needs_background": "light"
     },
     "output_type": "display_data"
    }
   ],
   "source": [
    "df[\"EmploymentStatus\"].value_counts().plot(kind='bar')"
   ]
  },
  {
   "cell_type": "markdown",
   "metadata": {},
   "source": [
    "\"YearsCodedJob\" has categorical values. For any regression analysis we have transform these later to integers."
   ]
  },
  {
   "cell_type": "code",
   "execution_count": 7,
   "metadata": {
    "ExecuteTime": {
     "end_time": "2020-03-24T13:41:42.320409Z",
     "start_time": "2020-03-24T13:41:42.098967Z"
    }
   },
   "outputs": [
    {
     "data": {
      "text/plain": [
       "array([nan, '20 or more years', '9 to 10 years', '10 to 11 years',\n",
       "       '8 to 9 years', '7 to 8 years', '11 to 12 years', '15 to 16 years',\n",
       "       '1 to 2 years', '3 to 4 years', '12 to 13 years',\n",
       "       'Less than a year', '5 to 6 years', '16 to 17 years',\n",
       "       '13 to 14 years', '6 to 7 years', '2 to 3 years', '17 to 18 years',\n",
       "       '4 to 5 years', '14 to 15 years', '18 to 19 years',\n",
       "       '19 to 20 years'], dtype=object)"
      ]
     },
     "execution_count": 7,
     "metadata": {},
     "output_type": "execute_result"
    }
   ],
   "source": [
    "df[\"YearsCodedJob\"].unique()"
   ]
  },
  {
   "cell_type": "markdown",
   "metadata": {},
   "source": [
    "We see that the mean salary per country is varies a lot. That makes it hard to make analysis by the absolut value."
   ]
  },
  {
   "cell_type": "code",
   "execution_count": 8,
   "metadata": {
    "ExecuteTime": {
     "end_time": "2020-03-24T14:24:41.645923Z",
     "start_time": "2020-03-24T14:24:41.448314Z"
    }
   },
   "outputs": [
    {
     "data": {
      "text/plain": [
       "<matplotlib.axes._subplots.AxesSubplot at 0x7f7183b904a8>"
      ]
     },
     "execution_count": 8,
     "metadata": {},
     "output_type": "execute_result"
    },
    {
     "data": {
      "image/png": "[encoded data removed]",
      "text/plain": [
       "<Figure size 432x288 with 1 Axes>"
      ]
     },
     "metadata": {
      "needs_background": "light"
     },
     "output_type": "display_data"
    }
   ],
   "source": [
    "#show mean Salary by Country\n",
    "pd.DataFrame(df.query(\"EmploymentStatus == 'Employed full-time'\").groupby(['Country']).mean()['Salary']).dropna().sort_values(by=[\"Salary\"]).plot(kind='bar')"
   ]
  },
  {
   "cell_type": "markdown",
   "metadata": {},
   "source": [
    "Even if we would transform the salaries to a relative representation, there would still be a risk of country specific effects. Therefore, for simplicity we will only consider data from the US, as this group has the most answers."
   ]
  },
  {
   "cell_type": "code",
   "execution_count": 9,
   "metadata": {},
   "outputs": [
    {
     "data": {
      "text/html": [
       "<div>\n",
       "<style scoped>\n",
       "    .dataframe tbody tr th:only-of-type {\n",
       "        vertical-align: middle;\n",
       "    }\n",
       "\n",
       "    .dataframe tbody tr th {\n",
       "        vertical-align: top;\n",
       "    }\n",
       "\n",
       "    .dataframe thead th {\n",
       "        text-align: right;\n",
       "    }\n",
       "</style>\n",
       "<table border=\"1\" class=\"dataframe\">\n",
       "  <thead>\n",
       "    <tr style=\"text-align: right;\">\n",
       "      <th></th>\n",
       "      <th>Salary</th>\n",
       "    </tr>\n",
       "    <tr>\n",
       "      <th>Country</th>\n",
       "      <th></th>\n",
       "    </tr>\n",
       "  </thead>\n",
       "  <tbody>\n",
       "    <tr>\n",
       "      <th>Tadjikistan</th>\n",
       "      <td>0</td>\n",
       "    </tr>\n",
       "    <tr>\n",
       "      <th>Iraq</th>\n",
       "      <td>0</td>\n",
       "    </tr>\n",
       "    <tr>\n",
       "      <th>Bouvet Island</th>\n",
       "      <td>0</td>\n",
       "    </tr>\n",
       "    <tr>\n",
       "      <th>Gibraltar</th>\n",
       "      <td>0</td>\n",
       "    </tr>\n",
       "    <tr>\n",
       "      <th>Brunei Darussalam</th>\n",
       "      <td>0</td>\n",
       "    </tr>\n",
       "    <tr>\n",
       "      <th>...</th>\n",
       "      <td>...</td>\n",
       "    </tr>\n",
       "    <tr>\n",
       "      <th>Canada</th>\n",
       "      <td>655</td>\n",
       "    </tr>\n",
       "    <tr>\n",
       "      <th>India</th>\n",
       "      <td>810</td>\n",
       "    </tr>\n",
       "    <tr>\n",
       "      <th>Germany</th>\n",
       "      <td>916</td>\n",
       "    </tr>\n",
       "    <tr>\n",
       "      <th>United Kingdom</th>\n",
       "      <td>1373</td>\n",
       "    </tr>\n",
       "    <tr>\n",
       "      <th>United States</th>\n",
       "      <td>3722</td>\n",
       "    </tr>\n",
       "  </tbody>\n",
       "</table>\n",
       "<p>180 rows × 1 columns</p>\n",
       "</div>"
      ],
      "text/plain": [
       "                   Salary\n",
       "Country                  \n",
       "Tadjikistan             0\n",
       "Iraq                    0\n",
       "Bouvet Island           0\n",
       "Gibraltar               0\n",
       "Brunei Darussalam       0\n",
       "...                   ...\n",
       "Canada                655\n",
       "India                 810\n",
       "Germany               916\n",
       "United Kingdom       1373\n",
       "United States        3722\n",
       "\n",
       "[180 rows x 1 columns]"
      ]
     },
     "execution_count": 9,
     "metadata": {},
     "output_type": "execute_result"
    }
   ],
   "source": [
    "#show answer count of Salary by Country and EmploymentStatus == 'Employed full-time\n",
    "pd.DataFrame(df.query(\"EmploymentStatus == 'Employed full-time'\").groupby(['Country']).count()[\"Salary\"].sort_values())"
   ]
  },
  {
   "cell_type": "code",
   "execution_count": 10,
   "metadata": {},
   "outputs": [
    {
     "data": {
      "text/plain": [
       "<matplotlib.axes._subplots.AxesSubplot at 0x7f71838674a8>"
      ]
     },
     "execution_count": 10,
     "metadata": {},
     "output_type": "execute_result"
    },
    {
     "data": {
      "image/png": "[encoded data removed]",
      "text/plain": [
       "<Figure size 432x288 with 1 Axes>"
      ]
     },
     "metadata": {
      "needs_background": "light"
     },
     "output_type": "display_data"
    }
   ],
   "source": [
    "# show histogram of salaries from US and full-time employed people\n",
    "pd.DataFrame(df.query(\"EmploymentStatus == 'Employed full-time' and Country == 'United States'\"))[\"Salary\"].dropna().hist()"
   ]
  },
  {
   "cell_type": "markdown",
   "metadata": {},
   "source": [
    "By looking at JobSatisfaction, we see that the data is represented as integer values from 0 to 10. So no need to make any modification on them."
   ]
  },
  {
   "cell_type": "code",
   "execution_count": 11,
   "metadata": {
    "ExecuteTime": {
     "end_time": "2020-03-24T13:36:30.159063Z",
     "start_time": "2020-03-24T13:36:29.678539Z"
    }
   },
   "outputs": [
    {
     "name": "stdout",
     "output_type": "stream",
     "text": [
      "mean: 6.957078\n",
      "std: 2.167652\n"
     ]
    },
    {
     "data": {
      "image/png": "[encoded data removed]",
      "text/plain": [
       "<Figure size 432x288 with 1 Axes>"
      ]
     },
     "metadata": {
      "needs_background": "light"
     },
     "output_type": "display_data"
    }
   ],
   "source": [
    "df[\"JobSatisfaction\"].hist()\n",
    "print(\"mean: %f\" % df[\"JobSatisfaction\"].mean())\n",
    "print(\"std: %f\" % df[\"JobSatisfaction\"].std())"
   ]
  },
  {
   "cell_type": "markdown",
   "metadata": {},
   "source": [
    "# Q1: What is the relationship between JobSatisfaction and Salary?\n",
    "### Data Preparation and Data Modelling\n",
    "\n",
    "As we previously defined, we will only look at data from full-time employed people from the US. We also know that there are many missing values in the Salary column. Therefore, we need to drop all JobStatisfaction data, which has missing Salary data."
   ]
  },
  {
   "cell_type": "code",
   "execution_count": 12,
   "metadata": {},
   "outputs": [],
   "source": [
    "# query data of interest and drop missing rows\n",
    "q_s = df.query(\"EmploymentStatus == 'Employed full-time' and Country == 'United States'\")\n",
    "q_s = q_s[['Salary', 'JobSatisfaction']].dropna()"
   ]
  },
  {
   "cell_type": "markdown",
   "metadata": {},
   "source": [
    "The relationship will be modelled and plotted via linear regression with the help of seabornd regplot() function.\n",
    "For a better visualization on how the underlying data looks like, we will also plot the used data points as far as that makes sense. As the values of Salary are continuous and would cover up all the space on the plot, we will put them into equally sized bins (intervals). Then we can calculate the mean and the standard deviation of those bins and plot them together with the regression line."
   ]
  },
  {
   "cell_type": "code",
   "execution_count": 22,
   "metadata": {},
   "outputs": [],
   "source": [
    "# put data into bins\n",
    "bins = np.linspace(0, 200000, 21) #create bin of size 10000 USD\n",
    "group = q_s.groupby(pd.cut(q_s.Salary, bins)) # group data by bins\n",
    "\n",
    "# calculate mean of bins with std_err\n",
    "plot_centers = (bins [:-1] + bins [1:])/2\n",
    "plot_val_mean = group.JobSatisfaction.mean()\n",
    "plot_val_std = group.JobSatisfaction.std()"
   ]
  },
  {
   "cell_type": "markdown",
   "metadata": {},
   "source": [
    "As we are going to use linear regression on the other questions as well. We will define a reusable plot function, which can plot the regression line, data points and error bars of our choice."
   ]
  },
  {
   "cell_type": "code",
   "execution_count": 23,
   "metadata": {
    "ExecuteTime": {
     "end_time": "2020-03-23T08:58:53.097477Z",
     "start_time": "2020-03-23T08:58:53.082654Z"
    }
   },
   "outputs": [],
   "source": [
    "def my_regplot(data, x, y, xlim, ylim, err_cen, err_mean, err_std):\n",
    "    plt.errorbar(err_cen, err_mean, err_std, linestyle='None', marker='o')\n",
    "    \n",
    "    sns.set_style(\"whitegrid\")\n",
    "    sns.set_context(\"paper\")\n",
    "    sns.set_style( {'xtick.bottom': True, 'ytick.left': True})\n",
    "    ax = sns.regplot(x=x, y=y, marker=\" \", order=1, data=data)\n",
    "    ax.set(ylim=ylim)\n",
    "    ax.set(xlim=xlim)"
   ]
  },
  {
   "cell_type": "code",
   "execution_count": 24,
   "metadata": {
    "ExecuteTime": {
     "end_time": "2020-03-24T14:28:54.441970Z",
     "start_time": "2020-03-24T14:28:54.273581Z"
    }
   },
   "outputs": [
    {
     "data": {
      "image/png": "[encoded data removed]",
      "text/plain": [
       "<Figure size 432x288 with 1 Axes>"
      ]
     },
     "metadata": {},
     "output_type": "display_data"
    }
   ],
   "source": [
    "my_regplot(data=q_s, x=\"Salary\", y=\"JobSatisfaction\", \n",
    "           xlim=(0,200000), ylim=(4,10),\n",
    "           err_cen = plot_centers,\n",
    "           err_mean = plot_val_mean,\n",
    "           err_std = plot_val_std)"
   ]
  },
  {
   "cell_type": "markdown",
   "metadata": {},
   "source": [
    "### Evaluation\n",
    "We can see that there is indeed a trend towards higher job satisfaction with higher salary. The big spread in standard deviation indicates that there is still a big uncertainty. However, we see that the lower bound gets higher over salary, supporting a real incline.\n",
    "The values below 40k don’t seem much in line with the overall trend. Such salaries don't really fit into the full-time job category. They might disturb this regression analysis slightly, but by looking at the histogram some cells above, the numbers are low and we will leave them in place."
   ]
  },
  {
   "cell_type": "markdown",
   "metadata": {},
   "source": [
    "# Q2: What is the relationship between Salary and YearsProgramJob (Experience)?\n",
    "### Data Preparation and Data Modelling\n",
    "We will still work on the data of full-time employed people from the US."
   ]
  },
  {
   "cell_type": "code",
   "execution_count": 25,
   "metadata": {},
   "outputs": [],
   "source": [
    "q_yp2 = df.query(\"EmploymentStatus == 'Employed full-time' and Country == 'United States'\")\n",
    "\n",
    "#drop NaN on 'YearsProgram' and 'Salary'\n",
    "q_yp2 = q_yp2[['YearsCodedJob', 'Salary']].dropna()"
   ]
  },
  {
   "cell_type": "markdown",
   "metadata": {},
   "source": [
    "We know from the data understanding part that YearsProgramJob has categorical values and we need to map these categories into continues values.\n",
    "We will do the following mapping."
   ]
  },
  {
   "cell_type": "code",
   "execution_count": 26,
   "metadata": {},
   "outputs": [],
   "source": [
    "mapping ={ \"Less than a year\": 1,\n",
    "           \"1 to 2 years\": 2,\n",
    "         \"2 to 3 years\": 3,\n",
    "         \"3 to 4 years\": 4,\n",
    "         \"4 to 5 years\": 5,\n",
    "         \"5 to 6 years\": 6,\n",
    "         \"6 to 7 years\": 7,\n",
    "         \"7 to 8 years\": 8,\n",
    "         \"8 to 9 years\": 9,\n",
    "         \"9 to 10 years\": 10,\n",
    "         \"10 to 11 years\": 11,\n",
    "         \"11 to 12 years\": 12,\n",
    "         \"12 to 13 years\": 13,\n",
    "         \"13 to 14 years\": 14,\n",
    "         \"14 to 15 years\": 15,\n",
    "         \"15 to 16 years\": 16,\n",
    "         \"16 to 17 years\": 17,\n",
    "         \"17 to 18 years\": 18,\n",
    "         \"18 to 19 years\": 19,\n",
    "         \"19 to 20 years\": 20,\n",
    "         \"20 or more years\": 21}\n",
    "\n",
    "#map ints on categorical 'YearsProgram' vals\n",
    "q_yp2 = q_yp2.replace({'YearsCodedJob': mapping})"
   ]
  },
  {
   "cell_type": "markdown",
   "metadata": {},
   "source": [
    "Now we will do a linear regression modelling and plot the line together with the mean Salary values per Year and the error."
   ]
  },
  {
   "cell_type": "code",
   "execution_count": 27,
   "metadata": {
    "ExecuteTime": {
     "end_time": "2020-03-24T14:26:45.234476Z",
     "start_time": "2020-03-24T14:26:44.907477Z"
    }
   },
   "outputs": [
    {
     "data": {
      "image/png": "[encoded data removed]",
      "text/plain": [
       "<Figure size 432x288 with 1 Axes>"
      ]
     },
     "metadata": {},
     "output_type": "display_data"
    }
   ],
   "source": [
    "#group by YearsProgram\n",
    "group = q_yp2.groupby(q_yp2.YearsCodedJob)\n",
    "\n",
    "#plot mean of groups with std_err\n",
    "plot_centers = list(range(1,22,1))\n",
    "plot_val_mean = group.Salary.mean()\n",
    "plot_val_std = group.Salary.std()\n",
    "\n",
    "my_regplot(data=q_yp2, x=\"YearsCodedJob\", y=\"Salary\", \n",
    "           xlim=(0,22), ylim=(0,200000),\n",
    "           err_cen = plot_centers,\n",
    "           err_mean = plot_val_mean,\n",
    "           err_std = plot_val_std)"
   ]
  },
  {
   "cell_type": "markdown",
   "metadata": {},
   "source": [
    "### Evaluation\n",
    "There is a clear undeniable trend towards more money with more years of programming experience. However based on the data points, the trend doesn't seem linear, it looks more logarithmic. However, that doesn't change the conclusion, that with more years of experience you will earn more money."
   ]
  },
  {
   "cell_type": "markdown",
   "metadata": {},
   "source": [
    "# Q3: What is the relationship between JobSatisfaction and YearsProgramJob (Experience?)\n",
    "### Data Preparation and Data Modelling\n",
    "We will still work on the data of full-time employed people from the US."
   ]
  },
  {
   "cell_type": "code",
   "execution_count": 28,
   "metadata": {},
   "outputs": [],
   "source": [
    "# query data of interest and drop missing rows\n",
    "q_yp = df.query(\"EmploymentStatus == 'Employed full-time' and Country == 'United States'\")\n",
    "q_yp = q_yp[['YearsCodedJob', 'JobSatisfaction']].dropna()"
   ]
  },
  {
   "cell_type": "markdown",
   "metadata": {},
   "source": [
    "We will do the same mapping as in Q2."
   ]
  },
  {
   "cell_type": "code",
   "execution_count": 29,
   "metadata": {
    "ExecuteTime": {
     "end_time": "2020-03-24T14:26:05.564328Z",
     "start_time": "2020-03-24T14:26:05.216956Z"
    }
   },
   "outputs": [],
   "source": [
    "# map integers on categorical 'YearsProgramJob' vals\n",
    "q_yp = q_yp.replace({'YearsCodedJob': mapping})"
   ]
  },
  {
   "cell_type": "markdown",
   "metadata": {},
   "source": [
    "Now we will do a linear regression modelling and plot the line together with the mean JobStatisfaction valves per Year and the error."
   ]
  },
  {
   "cell_type": "code",
   "execution_count": 30,
   "metadata": {},
   "outputs": [
    {
     "data": {
      "image/png": "[encoded data removed]",
      "text/plain": [
       "<Figure size 432x288 with 1 Axes>"
      ]
     },
     "metadata": {},
     "output_type": "display_data"
    }
   ],
   "source": [
    "# group by YearsProgramJob (1,2,3,...)\n",
    "group = q_yp.groupby(q_yp.YearsCodedJob)\n",
    "\n",
    "# calc mean of years with std_err\n",
    "plot_centers = list(range(1,22,1))\n",
    "plot_val_mean= group.JobSatisfaction.mean()\n",
    "plot_val_std = group.JobSatisfaction.std()\n",
    "\n",
    "# calc regression and plot reg. line with datapoints\n",
    "my_regplot(data=q_yp, x=\"YearsCodedJob\", y=\"JobSatisfaction\", \n",
    "           xlim=(0,22), ylim=(4,10),\n",
    "           err_cen = plot_centers,\n",
    "           err_mean = plot_val_mean,\n",
    "           err_std = plot_val_std)"
   ]
  },
  {
   "cell_type": "markdown",
   "metadata": {},
   "source": [
    "### Evaluation\n",
    "There is hardly a rising trend to be seen , although there is still an increasing trend. That might indicate that there is indeed a correlation between rising salary and job satisfaction. However, it is really small. That might indicate that there are other major drivers that influence job satisfaction and have impact on salary. For example your educational background or company size."
   ]
  },
  {
   "cell_type": "markdown",
   "metadata": {},
   "source": [
    "## Discussion\n",
    "So does salary increase job satisfaction? — This is not as clear as it seems, money is more the result and not the source of job satisfaction. The correlation in the first questions is entangled with influencing factors such as educational background or company size or type, that on their own have influence your actual job role as we can see on the values below.\n",
    "This data shows, that factors such as the ability to work remote, the company type, size or the educational background have different effects on salary and job satisfaction that don't fit into the trend we saw in question 1."
   ]
  },
  {
   "cell_type": "code",
   "execution_count": 31,
   "metadata": {
    "ExecuteTime": {
     "end_time": "2020-03-23T08:46:46.216061Z",
     "start_time": "2020-03-23T08:46:45.884050Z"
    }
   },
   "outputs": [
    {
     "name": "stdout",
     "output_type": "stream",
     "text": [
      "                          JobSatisfaction         Salary\n",
      "CompanySize                                             \n",
      "5,000 to 9,999 employees         6.887665  100662.703883\n",
      "I don't know                     6.953216   79665.406780\n",
      "1,000 to 4,999 employees         7.058485  100439.840708\n",
      "10,000 or more employees         7.097484  107313.516775\n",
      "500 to 999 employees             7.115772   97187.148289\n",
      "100 to 499 employees             7.203252   97813.521320\n",
      "20 to 99 employees               7.271597   91828.744856\n",
      "10 to 19 employees               7.372093   86265.073529\n",
      "Fewer than 10 employees          7.453564   81423.193286\n",
      "I prefer not to answer           7.834862   99590.000000\n",
      "\n",
      "                                                    JobSatisfaction  \\\n",
      "HomeRemote                                                            \n",
      "It's complicated                                           6.926778   \n",
      "Never                                                      6.970164   \n",
      "About half the time                                        7.177215   \n",
      "Less than half the time, but at least one day e...         7.203302   \n",
      "A few days each month                                      7.245267   \n",
      "More than half, but not all, the time                      7.288288   \n",
      "All or almost all the time (I'm full-time remote)          7.498756   \n",
      "\n",
      "                                                           Salary  \n",
      "HomeRemote                                                         \n",
      "It's complicated                                     86391.356061  \n",
      "Never                                                87274.851642  \n",
      "About half the time                                 101208.028846  \n",
      "Less than half the time, but at least one day e...  103610.857447  \n",
      "A few days each month                                98045.832901  \n",
      "More than half, but not all, the time               104317.478723  \n",
      "All or almost all the time (I'm full-time remote)   109310.831537  \n",
      "\n",
      "                                                    JobSatisfaction  \\\n",
      "CompanyType                                                           \n",
      "State-owned company                                        6.888889   \n",
      "Something else                                             6.950980   \n",
      "I don't know                                               7.038375   \n",
      "Publicly-traded corporation                                7.053024   \n",
      "Government agency or public school/university              7.112523   \n",
      "Privately-held limited company, not in startup ...         7.160702   \n",
      "Sole proprietorship or partnership, not in star...         7.175627   \n",
      "Non-profit/non-governmental organization or pri...         7.180879   \n",
      "Venture-funded startup                                     7.568966   \n",
      "Pre-series A startup                                       7.603960   \n",
      "I prefer not to answer                                     7.691919   \n",
      "\n",
      "                                                           Salary  \n",
      "CompanyType                                                        \n",
      "State-owned company                                  57601.400000  \n",
      "Something else                                       92562.500000  \n",
      "I don't know                                         78728.350337  \n",
      "Publicly-traded corporation                         108581.975054  \n",
      "Government agency or public school/university        78021.560976  \n",
      "Privately-held limited company, not in startup ...   93479.251376  \n",
      "Sole proprietorship or partnership, not in star...   80558.685259  \n",
      "Non-profit/non-governmental organization or pri...   84939.541935  \n",
      "Venture-funded startup                              112933.671958  \n",
      "Pre-series A startup                                 95359.310345  \n",
      "I prefer not to answer                               93160.315789  \n",
      "\n",
      "                                                    JobSatisfaction  \\\n",
      "FormalEducation                                                       \n",
      "Primary/elementary school                                  6.576923   \n",
      "Master's degree                                            7.111875   \n",
      "Bachelor's degree                                          7.155828   \n",
      "Some college/university study without earning a...         7.247085   \n",
      "I never completed any formal education                     7.259259   \n",
      "Secondary school                                           7.293814   \n",
      "I prefer not to answer                                     7.444444   \n",
      "Doctoral degree                                            7.528571   \n",
      "Professional degree                                        7.633333   \n",
      "\n",
      "                                                           Salary  \n",
      "FormalEducation                                                    \n",
      "Primary/elementary school                            89125.750000  \n",
      "Master's degree                                     109449.940323  \n",
      "Bachelor's degree                                    94194.592992  \n",
      "Some college/university study without earning a...   93180.061807  \n",
      "I never completed any formal education              115562.500000  \n",
      "Secondary school                                     82746.025440  \n",
      "I prefer not to answer                              114500.000000  \n",
      "Doctoral degree                                     120981.340909  \n",
      "Professional degree                                 105636.363636  \n",
      "\n"
     ]
    }
   ],
   "source": [
    "tempdf = df.query(\"EmploymentStatus == 'Employed full-time' and Country == 'United States'\")\n",
    "#tempdf = tempdf[['Salary', 'JobSatisfaction']].dropna()\n",
    "print(tempdf.groupby(['CompanySize'])[['JobSatisfaction', 'Salary']].mean().sort_values(by='JobSatisfaction'))\n",
    "print(\"\")\n",
    "print(tempdf.groupby(['HomeRemote'])[['JobSatisfaction', 'Salary']].mean().sort_values(by='JobSatisfaction'))\n",
    "print(\"\")\n",
    "print(tempdf.groupby(['CompanyType'])[['JobSatisfaction', 'Salary']].mean().sort_values(by='JobSatisfaction'))\n",
    "print(\"\")\n",
    "print(tempdf.groupby(['FormalEducation'])[['JobSatisfaction', 'Salary']].mean().sort_values(by='JobSatisfaction'))\n",
    "print(\"\")"
   ]
  },
  {
   "cell_type": "code",
   "execution_count": null,
   "metadata": {},
   "outputs": [],
   "source": []
  }
 ],
 "metadata": {
  "kernelspec": {
   "display_name": "Python 3",
   "language": "python",
   "name": "python3"
  },
  "language_info": {
   "codemirror_mode": {
    "name": "ipython",
    "version": 3
   },
   "file_extension": ".py",
   "mimetype": "text/x-python",
   "name": "python",
   "nbconvert_exporter": "python",
   "pygments_lexer": "ipython3",
   "version": "3.6.5"
  },
  "varInspector": {
   "cols": {
    "lenName": 16,
    "lenType": 16,
    "lenVar": 40
   },
   "kernels_config": {
    "python": {
     "delete_cmd_postfix": "",
     "delete_cmd_prefix": "del ",
     "library": "var_list.py",
     "varRefreshCmd": "print(var_dic_list())"
    },
    "r": {
     "delete_cmd_postfix": ") ",
     "delete_cmd_prefix": "rm(",
     "library": "var_list.r",
     "varRefreshCmd": "cat(var_dic_list()) "
    }
   },
   "types_to_exclude": [
    "module",
    "function",
    "builtin_function_or_method",
    "instance",
    "_Feature"
   ],
   "window_display": false
  }
 },
 "nbformat": 4,
 "nbformat_minor": 4
}
